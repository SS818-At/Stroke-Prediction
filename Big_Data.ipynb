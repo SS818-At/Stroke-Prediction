{
  "cells": [
    {
      "cell_type": "markdown",
      "id": "2b63709e-d2f9-41d4-8d18-446fd082bc41",
      "metadata": {
        "id": "2b63709e-d2f9-41d4-8d18-446fd082bc41"
      },
      "source": [
        "#### Importation de données"
      ]
    },
    {
      "cell_type": "code",
      "execution_count": null,
      "id": "6c97a8a2-4ea1-41a5-b132-197d95a52e3b",
      "metadata": {
        "id": "6c97a8a2-4ea1-41a5-b132-197d95a52e3b"
      },
      "outputs": [],
      "source": [
        "# Importer les librairies \n",
        "from pyspark.sql import SparkSession\n",
        "import pyspark.sql as sparksql\n",
        "import pandas\n",
        "# Ouvrir une session Spark SQL \n",
        "spark = SparkSession.builder.appName('stroke').getOrCreate()\n",
        "# Importer le Data\n",
        "df = spark.read.csv('/Users/mac/Downloads/healthcare-dataset-stroke-data.csv', inferSchema= True ,header= True )"
      ]
    },
    {
      "cell_type": "code",
      "execution_count": null,
      "id": "704187c0-36db-4b3c-938b-4edbcf10fac2",
      "metadata": {
        "id": "704187c0-36db-4b3c-938b-4edbcf10fac2",
        "outputId": "cb5ed9df-f42f-45bc-8275-a53a02a302e2"
      },
      "outputs": [
        {
          "name": "stdout",
          "output_type": "stream",
          "text": [
            "root\n",
            " |-- id: integer (nullable = true)\n",
            " |-- gender: string (nullable = true)\n",
            " |-- age: double (nullable = true)\n",
            " |-- hypertension: integer (nullable = true)\n",
            " |-- heart_disease: integer (nullable = true)\n",
            " |-- ever_married: string (nullable = true)\n",
            " |-- work_type: string (nullable = true)\n",
            " |-- Residence_type: string (nullable = true)\n",
            " |-- avg_glucose_level: double (nullable = true)\n",
            " |-- bmi: string (nullable = true)\n",
            " |-- smoking_status: string (nullable = true)\n",
            " |-- stroke: integer (nullable = true)\n",
            "\n"
          ]
        }
      ],
      "source": [
        "# La méthode printSchema() fournit une vue facilement lisible du schéma de DataFrame\n",
        "df.printSchema()"
      ]
    },
    {
      "cell_type": "code",
      "execution_count": null,
      "id": "cc5c19b4-0a39-4dec-ba35-4f353b664a5f",
      "metadata": {
        "id": "cc5c19b4-0a39-4dec-ba35-4f353b664a5f",
        "outputId": "9e26cb63-22b1-4f16-9361-2d42b80a2763"
      },
      "outputs": [
        {
          "data": {
            "text/plain": [
              "[('id', 'int'),\n",
              " ('gender', 'string'),\n",
              " ('age', 'double'),\n",
              " ('hypertension', 'int'),\n",
              " ('heart_disease', 'int'),\n",
              " ('ever_married', 'string'),\n",
              " ('work_type', 'string'),\n",
              " ('Residence_type', 'string'),\n",
              " ('avg_glucose_level', 'double'),\n",
              " ('bmi', 'string'),\n",
              " ('smoking_status', 'string'),\n",
              " ('stroke', 'int')]"
            ]
          },
          "execution_count": 38,
          "metadata": {},
          "output_type": "execute_result"
        }
      ],
      "source": [
        "# pandas.dtypes() retourne le type de chaque colonne\n",
        "df.dtypes"
      ]
    },
    {
      "cell_type": "markdown",
      "id": "e1b5aa0c-9aa9-4935-a366-a57bc506866c",
      "metadata": {
        "id": "e1b5aa0c-9aa9-4935-a366-a57bc506866c"
      },
      "source": [
        "#### Exploration de données"
      ]
    },
    {
      "cell_type": "code",
      "execution_count": null,
      "id": "ab2008d0-acc5-4afc-824e-c5dc91bab324",
      "metadata": {
        "id": "ab2008d0-acc5-4afc-824e-c5dc91bab324",
        "outputId": "b2cdff4b-716f-4275-ff32-bb371726e0eb"
      },
      "outputs": [
        {
          "data": {
            "text/plain": [
              "Row(id=9046, gender='Male', age=67.0, hypertension=0, heart_disease=1, ever_married='Yes', work_type='Private', Residence_type='Urban', avg_glucose_level=228.69, bmi='36.6', smoking_status='formerly smoked', stroke=1)"
            ]
          },
          "execution_count": 39,
          "metadata": {},
          "output_type": "execute_result"
        }
      ],
      "source": [
        "# head() renvoie la première ligne\n",
        "df.head()"
      ]
    },
    {
      "cell_type": "code",
      "execution_count": null,
      "id": "f19c4812-c6b7-450a-8d70-7d4eb2a6d64b",
      "metadata": {
        "id": "f19c4812-c6b7-450a-8d70-7d4eb2a6d64b",
        "outputId": "3626dc92-4bb9-446a-d65e-040334694428"
      },
      "outputs": [
        {
          "name": "stdout",
          "output_type": "stream",
          "text": [
            "+---------------+-----+\n",
            "| smoking_status|count|\n",
            "+---------------+-----+\n",
            "|         smokes|  789|\n",
            "|        Unknown| 1544|\n",
            "|   never smoked| 1892|\n",
            "|formerly smoked|  885|\n",
            "+---------------+-----+\n",
            "\n"
          ]
        }
      ],
      "source": [
        "# Grouper notre jeu de données selon les catégories du smoking_status et compter le nombre de personnes de chaque catégorie\n",
        "df.groupBy('smoking_status').count().show()"
      ]
    },
    {
      "cell_type": "code",
      "execution_count": null,
      "id": "9411054a-3769-4aab-a628-24b75950a361",
      "metadata": {
        "id": "9411054a-3769-4aab-a628-24b75950a361",
        "outputId": "441a3f2b-d710-4b99-c30f-1dc71c72fa42"
      },
      "outputs": [
        {
          "name": "stdout",
          "output_type": "stream",
          "text": [
            "+------+-----+\n",
            "|gender|count|\n",
            "+------+-----+\n",
            "|Female| 2994|\n",
            "| Other|    1|\n",
            "|  Male| 2115|\n",
            "+------+-----+\n",
            "\n"
          ]
        }
      ],
      "source": [
        "# Grouper selon le genre des personnes: femmes, hommes et autre\n",
        "df.groupBy('gender').count().show()"
      ]
    },
    {
      "cell_type": "code",
      "execution_count": null,
      "id": "1d0d41f2-f7ba-40af-86cc-1d3a69f9a054",
      "metadata": {
        "id": "1d0d41f2-f7ba-40af-86cc-1d3a69f9a054",
        "outputId": "494fcd94-93c5-41c9-af4a-4917b0bf0bbd"
      },
      "outputs": [
        {
          "name": "stdout",
          "output_type": "stream",
          "text": [
            "+-----------------+-----+\n",
            "|avg_glucose_level|count|\n",
            "+-----------------+-----+\n",
            "|           242.52|    1|\n",
            "|            60.98|    4|\n",
            "|            76.46|    1|\n",
            "|            98.09|    2|\n",
            "|            73.73|    1|\n",
            "|            78.75|    1|\n",
            "|            75.29|    1|\n",
            "|            79.89|    4|\n",
            "|            77.19|    2|\n",
            "|            206.4|    1|\n",
            "|            61.78|    1|\n",
            "|           151.25|    2|\n",
            "|            95.57|    1|\n",
            "|            65.78|    1|\n",
            "|            58.51|    1|\n",
            "|             64.2|    1|\n",
            "|           116.04|    2|\n",
            "|           106.01|    1|\n",
            "|            85.86|    1|\n",
            "|            70.07|    2|\n",
            "+-----------------+-----+\n",
            "only showing top 20 rows\n",
            "\n"
          ]
        }
      ],
      "source": [
        "# Grouper les personnes selon le niveau moyen de glucose\n",
        "df.groupBy('avg_glucose_level').count().show()"
      ]
    },
    {
      "cell_type": "code",
      "execution_count": null,
      "id": "88a7569c-1678-4c61-a2be-d82541def968",
      "metadata": {
        "id": "88a7569c-1678-4c61-a2be-d82541def968",
        "outputId": "93be17f2-da0c-457a-8735-5709bf298ac4"
      },
      "outputs": [
        {
          "name": "stdout",
          "output_type": "stream",
          "text": [
            "+----+-----+\n",
            "| bmi|count|\n",
            "+----+-----+\n",
            "|34.4|   18|\n",
            "|47.5|    3|\n",
            "|20.5|   18|\n",
            "|38.3|    2|\n",
            "|45.4|    4|\n",
            "|38.5|    7|\n",
            "|26.5|   30|\n",
            "|  51|    1|\n",
            "|48.1|    1|\n",
            "|29.4|   30|\n",
            "|16.6|    8|\n",
            "|14.2|    4|\n",
            "|12.8|    1|\n",
            "|26.7|   37|\n",
            "|17.1|   12|\n",
            "|36.1|    7|\n",
            "|30.1|   26|\n",
            "|40.1|   10|\n",
            "|  54|    1|\n",
            "|  15|    2|\n",
            "+----+-----+\n",
            "only showing top 20 rows\n",
            "\n"
          ]
        }
      ],
      "source": [
        "# Grouper les personnes selon l'indice de masse corporelle\n",
        "df.groupBy('bmi').count().show()"
      ]
    },
    {
      "cell_type": "markdown",
      "id": "5c7b7288-bf0d-4ba0-a2a9-4746eeaaa5e3",
      "metadata": {
        "id": "5c7b7288-bf0d-4ba0-a2a9-4746eeaaa5e3"
      },
      "source": [
        "#### Analyse de données"
      ]
    },
    {
      "cell_type": "code",
      "execution_count": null,
      "id": "71ecf634-cd1a-413e-9299-058ad64fb39b",
      "metadata": {
        "id": "71ecf634-cd1a-413e-9299-058ad64fb39b"
      },
      "outputs": [],
      "source": [
        "# Créer DataFrame en tant que vue temporaire\n",
        "df.createOrReplaceTempView('table')"
      ]
    },
    {
      "cell_type": "code",
      "execution_count": null,
      "id": "6d64a745-cbbc-4fa8-9c1c-74bc1aa80df9",
      "metadata": {
        "id": "6d64a745-cbbc-4fa8-9c1c-74bc1aa80df9",
        "outputId": "c0316712-5709-478a-f0d9-5fbfc9c0395d"
      },
      "outputs": [
        {
          "name": "stdout",
          "output_type": "stream",
          "text": [
            "+-------------+---------------+\n",
            "|    work_type|work_type_count|\n",
            "+-------------+---------------+\n",
            "|      Private|            149|\n",
            "|Self-employed|             65|\n",
            "|     Govt_job|             33|\n",
            "|     children|              2|\n",
            "+-------------+---------------+\n",
            "\n"
          ]
        }
      ],
      "source": [
        "# Compter le nombre de personnes pour chaque catégorie du travail, sachant qu'ils sont atteints d'accident vasculaire cérébral\n",
        "spark.sql(\"\"\"\n",
        "          SELECT work_type, count(work_type) as work_type_count\n",
        "          FROM table WHERE stroke == 1\n",
        "          GROUP BY work_type\n",
        "          ORDER BY work_type_count DESC\"\"\").show()"
      ]
    },
    {
      "cell_type": "code",
      "execution_count": null,
      "id": "be4c9ab3-bccc-421c-827e-3b2a3c1f33fa",
      "metadata": {
        "id": "be4c9ab3-bccc-421c-827e-3b2a3c1f33fa",
        "outputId": "2de6c13a-9362-4cb6-84db-8d6baf7f740f"
      },
      "outputs": [
        {
          "name": "stdout",
          "output_type": "stream",
          "text": [
            "+------+------------+--------------------+\n",
            "|gender|count_gender|             percent|\n",
            "+------+------------+--------------------+\n",
            "|Female|        2994|  58.590998043052835|\n",
            "| Other|           1|0.019569471624266144|\n",
            "|  Male|        2115|    41.3894324853229|\n",
            "+------+------------+--------------------+\n",
            "\n"
          ]
        }
      ],
      "source": [
        "# Compter le nombre personnes par gender qui ont atteints d'accident vasculaire cérébral\n",
        "spark.sql(\"\"\"\n",
        "          SELECT gender, count(gender) as count_gender, count(gender)*100/sum(count(gender)) over() as percent \n",
        "          FROM table \n",
        "          GROUP BY gender\"\"\").show()"
      ]
    },
    {
      "cell_type": "code",
      "execution_count": null,
      "id": "493a181d-6bc6-493f-8312-a9f4a4277e4b",
      "metadata": {
        "id": "493a181d-6bc6-493f-8312-a9f4a4277e4b",
        "outputId": "33408749-7e0f-4d31-cc44-099151e0177b"
      },
      "outputs": [
        {
          "name": "stdout",
          "output_type": "stream",
          "text": [
            "+----+---------+\n",
            "| age|age_count|\n",
            "+----+---------+\n",
            "|78.0|       21|\n",
            "|79.0|       17|\n",
            "|80.0|       17|\n",
            "|81.0|       14|\n",
            "|57.0|       11|\n",
            "|76.0|       10|\n",
            "|63.0|        9|\n",
            "|68.0|        9|\n",
            "|74.0|        9|\n",
            "|82.0|        9|\n",
            "|59.0|        8|\n",
            "|77.0|        8|\n",
            "|71.0|        7|\n",
            "|58.0|        7|\n",
            "|70.0|        6|\n",
            "|75.0|        6|\n",
            "|69.0|        6|\n",
            "|72.0|        6|\n",
            "|54.0|        6|\n",
            "|61.0|        6|\n",
            "+----+---------+\n",
            "only showing top 20 rows\n",
            "\n"
          ]
        }
      ],
      "source": [
        "# Compter le nombre personnes par age qui ont atteints d'accident vasculaire cérébral\n",
        "spark.sql(\"\"\"\n",
        "          SELECT age, count(age) as age_count \n",
        "          FROM table WHERE stroke == 1 \n",
        "          GROUP BY age \n",
        "          ORDER BY age_count DESC\"\"\").show()"
      ]
    },
    {
      "cell_type": "code",
      "execution_count": null,
      "id": "ec911d93-7c97-4c14-af1b-a99d94d1bece",
      "metadata": {
        "id": "ec911d93-7c97-4c14-af1b-a99d94d1bece",
        "outputId": "80bc4acb-2dc1-4780-b2a5-171fe72bf2f7"
      },
      "outputs": [
        {
          "name": "stdout",
          "output_type": "stream",
          "text": [
            "+---------------+--------------------+\n",
            "| smoking_status|smoking_status_count|\n",
            "+---------------+--------------------+\n",
            "|   never smoked|                  90|\n",
            "|formerly smoked|                  70|\n",
            "|        Unknown|                  47|\n",
            "|         smokes|                  42|\n",
            "+---------------+--------------------+\n",
            "\n"
          ]
        }
      ],
      "source": [
        "# Compter le nombre personnes par smoking_status qui ont atteints d'accident vasculaire cérébral\n",
        "spark.sql(\"\"\"\n",
        "          SELECT smoking_status, count(smoking_status) as smoking_status_count \n",
        "          FROM table WHERE stroke == 1 \n",
        "          GROUP BY smoking_status \n",
        "          ORDER BY smoking_status_count DESC\"\"\").show()"
      ]
    },
    {
      "cell_type": "code",
      "execution_count": null,
      "id": "8665c699-aa3b-4b57-88b8-55fa102ecfcb",
      "metadata": {
        "id": "8665c699-aa3b-4b57-88b8-55fa102ecfcb",
        "outputId": "20a76a12-343f-449f-8f87-6bf6712c47e6"
      },
      "outputs": [
        {
          "name": "stdout",
          "output_type": "stream",
          "text": [
            "+-----------------+-----------------------+\n",
            "|avg_glucose_level|avg_glucose_level_count|\n",
            "+-----------------+-----------------------+\n",
            "|           101.45|                      2|\n",
            "|           242.52|                      1|\n",
            "|            76.46|                      1|\n",
            "|            60.98|                      1|\n",
            "|           199.86|                      1|\n",
            "|           165.31|                      1|\n",
            "|            60.67|                      1|\n",
            "|           110.66|                      1|\n",
            "|            68.53|                      1|\n",
            "|           207.28|                      1|\n",
            "|            76.15|                      1|\n",
            "|            61.94|                      1|\n",
            "|           186.21|                      1|\n",
            "|           199.84|                      1|\n",
            "|            91.92|                      1|\n",
            "|            96.97|                      1|\n",
            "|           110.85|                      1|\n",
            "|            72.81|                      1|\n",
            "|            86.94|                      1|\n",
            "|           130.54|                      1|\n",
            "+-----------------+-----------------------+\n",
            "only showing top 20 rows\n",
            "\n"
          ]
        }
      ],
      "source": [
        "# Compter le nombre personnes par avg_glucose_level qui ont atteints d'accident vasculaire cérébral\n",
        "spark.sql(\"\"\"\n",
        "          SELECT avg_glucose_level, count(avg_glucose_level) as avg_glucose_level_count \n",
        "          FROM table WHERE stroke == 1 \n",
        "          GROUP BY avg_glucose_level \n",
        "          ORDER BY avg_glucose_level_count DESC\"\"\").show()"
      ]
    },
    {
      "cell_type": "code",
      "execution_count": null,
      "id": "99e2346e-5bff-4b05-90e6-f3458b96c2b2",
      "metadata": {
        "id": "99e2346e-5bff-4b05-90e6-f3458b96c2b2",
        "outputId": "792fd0dc-8d6a-4adf-c35f-e138d556ead5"
      },
      "outputs": [
        {
          "name": "stdout",
          "output_type": "stream",
          "text": [
            "+-------------+-------------------+\n",
            "|heart_disease|heart_disease_count|\n",
            "+-------------+-------------------+\n",
            "|            0|                202|\n",
            "|            1|                 47|\n",
            "+-------------+-------------------+\n",
            "\n"
          ]
        }
      ],
      "source": [
        "# Compter le nombre personnes par heart_disease qui ont atteints d'accident vasculaire cérébral\n",
        "spark.sql(\"\"\"\n",
        "          SELECT heart_disease, count(heart_disease) as heart_disease_count \n",
        "          FROM table WHERE stroke == 1 \n",
        "          GROUP BY heart_disease \n",
        "          ORDER BY heart_disease_count DESC\"\"\").show()"
      ]
    },
    {
      "cell_type": "markdown",
      "id": "e4f7976b-740e-472e-b988-b7589f5c1cd7",
      "metadata": {
        "id": "e4f7976b-740e-472e-b988-b7589f5c1cd7"
      },
      "source": [
        "#### Entrainement de données"
      ]
    },
    {
      "cell_type": "code",
      "execution_count": null,
      "id": "7ecc25cc-067c-4671-adc0-c0252a65c084",
      "metadata": {
        "id": "7ecc25cc-067c-4671-adc0-c0252a65c084",
        "outputId": "7fd54bf0-25e4-4f3c-bb06-b1b2f395a221"
      },
      "outputs": [
        {
          "name": "stdout",
          "output_type": "stream",
          "text": [
            "Row(id=9046, gender='Male', age=67.0, hypertension=0, heart_disease=1, ever_married='Yes', work_type='Private', Residence_type='Urban', avg_glucose_level=228.69, bmi='36.6', smoking_status='formerly smoked', stroke=1, work=0.0)\n",
            "\n",
            "\n",
            "Row(id=51676, gender='Female', age=61.0, hypertension=0, heart_disease=0, ever_married='Yes', work_type='Self-employed', Residence_type='Rural', avg_glucose_level=202.21, bmi='N/A', smoking_status='never smoked', stroke=1, work=1.0)\n",
            "\n",
            "\n",
            "Row(id=31112, gender='Male', age=80.0, hypertension=0, heart_disease=1, ever_married='Yes', work_type='Private', Residence_type='Rural', avg_glucose_level=105.92, bmi='32.5', smoking_status='never smoked', stroke=1, work=0.0)\n",
            "\n",
            "\n",
            "Row(id=60182, gender='Female', age=49.0, hypertension=0, heart_disease=0, ever_married='Yes', work_type='Private', Residence_type='Urban', avg_glucose_level=171.23, bmi='34.4', smoking_status='smokes', stroke=1, work=0.0)\n",
            "\n",
            "\n",
            "Row(id=1665, gender='Female', age=79.0, hypertension=1, heart_disease=0, ever_married='Yes', work_type='Self-employed', Residence_type='Rural', avg_glucose_level=174.12, bmi='24', smoking_status='never smoked', stroke=1, work=1.0)\n",
            "\n",
            "\n"
          ]
        }
      ],
      "source": [
        "from pyspark.ml.feature import StringIndexer\n",
        "#Convertir la colonne work_type de type chaîne de caractères en numérique\n",
        "indexer=StringIndexer(inputCol='work_type',outputCol='work')\n",
        "indexed=indexer.fit(df).transform(df)\n",
        "#Le nouveau DataFrame contient une nouvelle caractéristique 'work'\n",
        "for item in indexed.head(5):\n",
        "    print(item)\n",
        "    print('\\n')"
      ]
    },
    {
      "cell_type": "code",
      "execution_count": null,
      "id": "1d0bc72c-8d9b-4f68-a2ee-83261dfaf659",
      "metadata": {
        "id": "1d0bc72c-8d9b-4f68-a2ee-83261dfaf659",
        "outputId": "2e7e8d3a-f97f-4578-877b-cdf6dbbceaa2"
      },
      "outputs": [
        {
          "name": "stdout",
          "output_type": "stream",
          "text": [
            "+--------------------+------+\n",
            "|            features|stroke|\n",
            "+--------------------+------+\n",
            "|[9046.0,67.0,0.0,...|     1|\n",
            "|[51676.0,61.0,0.0...|     1|\n",
            "|[31112.0,80.0,0.0...|     1|\n",
            "|[60182.0,49.0,0.0...|     1|\n",
            "|[1665.0,79.0,1.0,...|     1|\n",
            "+--------------------+------+\n",
            "only showing top 5 rows\n",
            "\n"
          ]
        }
      ],
      "source": [
        "from pyspark.ml.linalg import Vectors\n",
        "from pyspark.ml.feature import VectorAssembler\n",
        "# Créer un vecteur features à partir des caractéristiques: age, hypertension, heart_disease, work et avg_glucose_level\n",
        "assembler=VectorAssembler(inputCols=['id',\n",
        " 'age',\n",
        " 'hypertension',\n",
        " 'heart_disease',\n",
        " 'work',\n",
        " 'avg_glucose_level'],outputCol='features')\n",
        "output=assembler.transform(indexed)\n",
        "output.select('features','stroke').show(5)"
      ]
    },
    {
      "cell_type": "code",
      "execution_count": null,
      "id": "0fcdc9db-d83f-4358-995e-be7254ea8ff3",
      "metadata": {
        "id": "0fcdc9db-d83f-4358-995e-be7254ea8ff3",
        "outputId": "bfde8192-d6de-4d98-cabe-5e43ed6e7d7a"
      },
      "outputs": [
        {
          "name": "stdout",
          "output_type": "stream",
          "text": [
            "+-------+-------------------+\n",
            "|summary|             stroke|\n",
            "+-------+-------------------+\n",
            "|  count|               3591|\n",
            "|   mean|0.05123920913394597|\n",
            "| stddev| 0.2205159722481186|\n",
            "|    min|                  0|\n",
            "|    max|                  1|\n",
            "+-------+-------------------+\n",
            "\n"
          ]
        }
      ],
      "source": [
        "final_data=output.select('features','stroke')\n",
        "# Diviser les données en données d'entrainement et données de test\n",
        "train_data,test_data=final_data.randomSplit([0.7,0.3])\n",
        "# Afficher quelques mesures de statistiques pour données d'entrainement\n",
        "train_data.describe().show()\n"
      ]
    },
    {
      "cell_type": "code",
      "execution_count": null,
      "id": "0ff4275e-98c6-4b26-84b4-e7658e5fc589",
      "metadata": {
        "id": "0ff4275e-98c6-4b26-84b4-e7658e5fc589",
        "outputId": "81b88523-bcc9-4dc4-a836-a8119a5d2ab6"
      },
      "outputs": [
        {
          "name": "stdout",
          "output_type": "stream",
          "text": [
            "+-------+--------------------+\n",
            "|summary|              stroke|\n",
            "+-------+--------------------+\n",
            "|  count|                1519|\n",
            "|   mean|0.042791310072416065|\n",
            "| stddev| 0.20245294976310413|\n",
            "|    min|                   0|\n",
            "|    max|                   1|\n",
            "+-------+--------------------+\n",
            "\n"
          ]
        }
      ],
      "source": [
        "# Afficher quelques mesures de statistiques pour données de test\n",
        "test_data.describe().show()"
      ]
    },
    {
      "cell_type": "code",
      "execution_count": null,
      "id": "9e557e58-df88-4c3f-a8d2-6b041c0362d7",
      "metadata": {
        "id": "9e557e58-df88-4c3f-a8d2-6b041c0362d7",
        "outputId": "f2f898b5-5a24-449a-bd3d-baf9f135dc34"
      },
      "outputs": [
        {
          "name": "stdout",
          "output_type": "stream",
          "text": [
            "Rsquared Error : 0.08362734724414456\n"
          ]
        }
      ],
      "source": [
        "# Importer LinearRegression library\n",
        "from pyspark.ml.regression import LinearRegression\n",
        "# LinearRefression prend en arguments features et stroke comme variable à prédire\n",
        "ship_lr=LinearRegression(featuresCol='features',labelCol='stroke')\n",
        "trained_ship_model=ship_lr.fit(train_data)\n",
        "# Evaluer le modèle entraîné avec Rsquared error\n",
        "ship_results=trained_ship_model.evaluate(train_data)\n",
        "print('Rsquared Error :',ship_results.r2)"
      ]
    },
    {
      "cell_type": "code",
      "execution_count": null,
      "id": "bc170771-37cb-41ff-af43-145e4606e584",
      "metadata": {
        "id": "bc170771-37cb-41ff-af43-145e4606e584",
        "outputId": "dff8af6f-1ae8-4bdf-fbb8-8a4824a3903d"
      },
      "outputs": [
        {
          "name": "stdout",
          "output_type": "stream",
          "text": [
            "+--------------------+\n",
            "|            features|\n",
            "+--------------------+\n",
            "|[77.0,13.0,0.0,0....|\n",
            "|[91.0,42.0,0.0,0....|\n",
            "|[187.0,20.0,0.0,0...|\n",
            "|[242.0,4.0,0.0,0....|\n",
            "|[298.0,41.0,0.0,0...|\n",
            "+--------------------+\n",
            "only showing top 5 rows\n",
            "\n"
          ]
        }
      ],
      "source": [
        "# Tester le modèle\n",
        "unlabeled_data=test_data.select('features')\n",
        "unlabeled_data.show(5)"
      ]
    },
    {
      "cell_type": "code",
      "execution_count": null,
      "id": "7f435d8a-b552-48e8-8ad5-e439a4535e36",
      "metadata": {
        "id": "7f435d8a-b552-48e8-8ad5-e439a4535e36",
        "outputId": "e2641e3a-e40e-44bc-fa29-58b33843a94e"
      },
      "outputs": [
        {
          "name": "stdout",
          "output_type": "stream",
          "text": [
            "+--------------------+--------------------+\n",
            "|            features|          prediction|\n",
            "+--------------------+--------------------+\n",
            "|[77.0,13.0,0.0,0....|-0.02834621020510...|\n",
            "|[91.0,42.0,0.0,0....| 0.03033340575553635|\n",
            "|[187.0,20.0,0.0,0...|-0.01639112510436988|\n",
            "|[242.0,4.0,0.0,0....|-0.04141245025843...|\n",
            "|[298.0,41.0,0.0,0...|0.021827357307744377|\n",
            "|[338.0,43.0,0.0,0...| 0.03609010653588775|\n",
            "|[364.0,58.0,0.0,0...| 0.06329610377449525|\n",
            "|[448.0,49.0,0.0,0...| 0.04668382037454695|\n",
            "|[452.0,48.0,1.0,0...|  0.1254033089680207|\n",
            "|[458.0,37.0,0.0,0...| 0.01360899977734796|\n",
            "|[464.0,46.0,0.0,0...|0.031545218245174506|\n",
            "|[479.0,59.0,1.0,0...| 0.11579430916988002|\n",
            "|[545.0,42.0,0.0,0...| 0.06656636122713884|\n",
            "|[563.0,41.0,0.0,0...| 0.06666954560423778|\n",
            "|[721.0,52.0,1.0,0...| 0.11450683056965404|\n",
            "|[724.0,17.0,0.0,0...|-0.02279317708587...|\n",
            "|[739.0,73.0,0.0,0...| 0.08405787050458034|\n",
            "|[742.0,39.0,0.0,0...|0.022397746247636324|\n",
            "|[917.0,32.0,0.0,0...|0.007018204531225827|\n",
            "|[937.0,7.0,0.0,0....|-0.03900690188581...|\n",
            "+--------------------+--------------------+\n",
            "only showing top 20 rows\n",
            "\n"
          ]
        }
      ],
      "source": [
        "# Les prédictions de la variable stroke donnés par notre modèle en utilisant les données de test\n",
        "predictions=trained_ship_model.transform(unlabeled_data)\n",
        "predictions.show()"
      ]
    },
    {
      "cell_type": "code",
      "execution_count": null,
      "id": "e12d0c7c-0ae3-4916-88db-65f6b6d8f3a6",
      "metadata": {
        "id": "e12d0c7c-0ae3-4916-88db-65f6b6d8f3a6"
      },
      "outputs": [],
      "source": []
    }
  ],
  "metadata": {
    "kernelspec": {
      "display_name": "Python 3",
      "language": "python",
      "name": "python3"
    },
    "language_info": {
      "codemirror_mode": {
        "name": "ipython",
        "version": 3
      },
      "file_extension": ".py",
      "mimetype": "text/x-python",
      "name": "python",
      "nbconvert_exporter": "python",
      "pygments_lexer": "ipython3",
      "version": "3.8.8"
    },
    "colab": {
      "provenance": []
    }
  },
  "nbformat": 4,
  "nbformat_minor": 5
}